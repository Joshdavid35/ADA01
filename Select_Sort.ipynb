{
  "nbformat": 4,
  "nbformat_minor": 0,
  "metadata": {
    "colab": {
      "name": "Select Sort.ipynb",
      "provenance": [],
      "authorship_tag": "ABX9TyM34SF/fbx8OU/whP9z1k15",
      "include_colab_link": true
    },
    "kernelspec": {
      "name": "python3",
      "display_name": "Python 3"
    }
  },
  "cells": [
    {
      "cell_type": "markdown",
      "metadata": {
        "id": "view-in-github",
        "colab_type": "text"
      },
      "source": [
        "<a href=\"https://colab.research.google.com/github/Joshdavid35/ADA01/blob/main/Select_Sort.ipynb\" target=\"_parent\"><img src=\"https://colab.research.google.com/assets/colab-badge.svg\" alt=\"Open In Colab\"/></a>"
      ]
    },
    {
      "cell_type": "code",
      "metadata": {
        "colab": {
          "base_uri": "https://localhost:8080/"
        },
        "id": "pEcVnuIeo8SB",
        "outputId": "a9d9a339-79b7-410e-e8ee-5943d0df1d81"
      },
      "source": [
        "!pip install big-O-calculator"
      ],
      "execution_count": null,
      "outputs": [
        {
          "output_type": "stream",
          "text": [
            "Collecting big-O-calculator\n",
            "  Downloading https://files.pythonhosted.org/packages/f3/e1/8abcd5ba0b2c249d25c1f16cc8aa9838c993061ce322b0ac5ed42251a5d0/big_O_calculator-0.0.9.8.2-py3-none-any.whl\n",
            "Installing collected packages: big-O-calculator\n",
            "Successfully installed big-O-calculator-0.0.9.8.2\n"
          ],
          "name": "stdout"
        }
      ]
    },
    {
      "cell_type": "code",
      "metadata": {
        "id": "RVighErwrfWC"
      },
      "source": [
        "from bigO import bigO\n",
        "from random import randint"
      ],
      "execution_count": null,
      "outputs": []
    },
    {
      "cell_type": "code",
      "metadata": {
        "id": "pADa1SlRuy_f"
      },
      "source": [
        "def SelectionSort(aList):\n",
        "    for i in range(len(aList)):\n",
        "        least = i\n",
        "        for k in range(i+1, len(aList)):\n",
        "            if aList[k] < aList[least]:\n",
        "                least = k\n",
        "                 \n",
        "        swap(aList, least, i)\n",
        "         \n",
        "def swap(A, x, y):\n",
        "    temp = A[x]\n",
        "    A[x] = A[y]\n",
        "    A[y] = temp"
      ],
      "execution_count": null,
      "outputs": []
    },
    {
      "cell_type": "code",
      "metadata": {
        "colab": {
          "base_uri": "https://localhost:8080/"
        },
        "id": "4-bn8HjPu3gZ",
        "outputId": "95e3e882-26a7-48e9-dc8f-ded055dd14ed"
      },
      "source": [
        "my_list = [5.76,4.7,25.3,4.6,32.4,55.3,52.3,7.6,7.3,86.7,43.5]\n",
        "SelectionSort(my_list)\n",
        "print(my_list)"
      ],
      "execution_count": null,
      "outputs": [
        {
          "output_type": "stream",
          "text": [
            "[4.6, 4.7, 5.76, 7.3, 7.6, 25.3, 32.4, 43.5, 52.3, 55.3, 86.7]\n"
          ],
          "name": "stdout"
        }
      ]
    },
    {
      "cell_type": "code",
      "metadata": {
        "colab": {
          "base_uri": "https://localhost:8080/"
        },
        "id": "x5i3mrbdvHcw",
        "outputId": "1678d996-234f-436a-e4b5-66a1d9843a64"
      },
      "source": [
        "tester = bigO()\n",
        "complexity, time = tester.test(SelectionSort, \"random\")\n",
        "complexity, time = tester.test(SelectionSort, \"sorted\")\n",
        "complexity, time = tester.test(SelectionSort, \"reversed\")\n",
        "complexity, time = tester.test(SelectionSort, \"partial\")\n",
        "complexity, time = tester.test(SelectionSort, \"Ksorted\")"
      ],
      "execution_count": null,
      "outputs": [
        {
          "output_type": "stream",
          "text": [
            "Running SelectionSort(random array)...\n",
            "Completed SelectionSort(random array): O(n^2)\n",
            "Time took: 3.40869s\n",
            "Running SelectionSort(sorted array)...\n",
            "Completed SelectionSort(sorted array): O(n^2)\n",
            "Time took: 3.38502s\n",
            "Running SelectionSort(reversed array)...\n",
            "Completed SelectionSort(reversed array): O(n^2)\n",
            "Time took: 3.40872s\n",
            "Running SelectionSort(partial array)...\n",
            "Completed SelectionSort(partial array): O(n^2)\n",
            "Time took: 3.40819s\n",
            "Running SelectionSort(Ksorted array)...\n",
            "Completed SelectionSort(ksorted array): O(n^2)\n",
            "Time took: 3.35204s\n"
          ],
          "name": "stdout"
        }
      ]
    },
    {
      "cell_type": "code",
      "metadata": {
        "colab": {
          "base_uri": "https://localhost:8080/"
        },
        "id": "Uehily2ev0WY",
        "outputId": "075a9d17-2c05-4ae0-bddb-34fe5d402ce6"
      },
      "source": [
        "tester = bigO()\n",
        "\n",
        "tester.test_all(SelectionSort)"
      ],
      "execution_count": null,
      "outputs": [
        {
          "output_type": "stream",
          "text": [
            "Running SelectionSort(tests)\n",
            "Best : O(n^2) Time\n",
            "Average : O(n^2) Time\n",
            "Worst : O(n^2) Time\n"
          ],
          "name": "stdout"
        },
        {
          "output_type": "execute_result",
          "data": {
            "text/plain": [
              "{'Ksorted': 'O(n^2)',\n",
              " 'almost_equal': 'O(n^2)',\n",
              " 'partial': 'O(n^2)',\n",
              " 'random': 'O(n^2)',\n",
              " 'reversed': 'O(n^2)',\n",
              " 'sorted': 'O(n^2)'}"
            ]
          },
          "metadata": {
            "tags": []
          },
          "execution_count": 26
        }
      ]
    },
    {
      "cell_type": "code",
      "metadata": {
        "colab": {
          "base_uri": "https://localhost:8080/"
        },
        "id": "d2X-oztQxY_s",
        "outputId": "52601a0f-48e8-483f-b9c4-a7027d1aa177"
      },
      "source": [
        "test = bigO()\n",
        "\n",
        "timeTook, result = test.runtime(SelectionSort, \"random\", 5000)\n",
        "\n",
        "custom = [6, 5, 99, 8, 8, 88, 17, 20, 12, 19, 15, 25, 4]\n",
        "\n",
        "timeTook, result = test.runtime(SelectionSort, custom)"
      ],
      "execution_count": null,
      "outputs": [
        {
          "output_type": "stream",
          "text": [
            "Running SelectionSort(len 5000 random array)\n",
            "Took 0.88583s to sort SelectionSort(random)\n",
            "Running SelectionSort(len 13 custom array)\n",
            "Took 0.00002s to sort SelectionSort(custom)\n"
          ],
          "name": "stdout"
        }
      ]
    }
  ]
}