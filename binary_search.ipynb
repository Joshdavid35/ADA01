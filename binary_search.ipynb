{
  "nbformat": 4,
  "nbformat_minor": 0,
  "metadata": {
    "colab": {
      "name": "binary search.ipynb",
      "provenance": [],
      "authorship_tag": "ABX9TyNm4JaKga8xbl+ZW4E/wQ+m",
      "include_colab_link": true
    },
    "kernelspec": {
      "name": "python3",
      "display_name": "Python 3"
    }
  },
  "cells": [
    {
      "cell_type": "markdown",
      "metadata": {
        "id": "view-in-github",
        "colab_type": "text"
      },
      "source": [
        "<a href=\"https://colab.research.google.com/github/Joshdavid35/ADA01/blob/main/binary_search.ipynb\" target=\"_parent\"><img src=\"https://colab.research.google.com/assets/colab-badge.svg\" alt=\"Open In Colab\"/></a>"
      ]
    },
    {
      "cell_type": "markdown",
      "metadata": {
        "id": "vn1-T2JnHot1"
      },
      "source": [
        "# ** Tarea 05**\n",
        "* Alumno: Vieyra Acosta Josué David.\n"
      ]
    },
    {
      "cell_type": "code",
      "metadata": {
        "id": "KlB6oC1bS3ZY"
      },
      "source": [
        "def busqueda_binaria(lista, x):\n",
        "  media = 0\n",
        "  max = len(lista) -1\n",
        "  min = 0\n",
        "  esta_en_lista = False\n",
        "  while min <= max:\n",
        "    media = (max + min) // 2;\n",
        "    if lista[media] == x:\n",
        "      esta_en_lista = True\n",
        "      break\n",
        "    elif lista[media] > x:\n",
        "      max = media -1\n",
        "    else:\n",
        "      min = media +1\n",
        "  if esta_en_lista:\n",
        "    print(\"El elemento\", x, \"está en posición:\", (media +1))\n",
        "  else:\n",
        "    print(\"¡El elemento no fue encontrado!\");"
      ],
      "execution_count": null,
      "outputs": []
    },
    {
      "cell_type": "code",
      "metadata": {
        "colab": {
          "base_uri": "https://localhost:8080/"
        },
        "id": "gCA7JSu5FMaP",
        "outputId": "0397fedc-0e81-4d98-ced4-3639805c0241"
      },
      "source": [
        "lista =[1, 2, 3, 4, 5, 6, 7, 8, 9, 10]\n",
        "busqueda_binaria(lista, 1)\n",
        "busqueda_binaria(lista, 2)\n",
        "busqueda_binaria(lista, 3)\n",
        "busqueda_binaria(lista, 4)\n",
        "busqueda_binaria(lista, 5)\n",
        "busqueda_binaria(lista, 6)\n",
        "busqueda_binaria(lista, 7)\n",
        "busqueda_binaria(lista, 8)\n",
        "busqueda_binaria(lista, 9)\n",
        "busqueda_binaria(lista, 10)"
      ],
      "execution_count": null,
      "outputs": [
        {
          "output_type": "stream",
          "text": [
            "El elemento 1 está en posición: 1\n",
            "El elemento 2 está en posición: 2\n",
            "El elemento 3 está en posición: 3\n",
            "El elemento 4 está en posición: 4\n",
            "El elemento 5 está en posición: 5\n",
            "El elemento 6 está en posición: 6\n",
            "El elemento 7 está en posición: 7\n",
            "El elemento 8 está en posición: 8\n",
            "El elemento 9 está en posición: 9\n",
            "El elemento 10 está en posición: 10\n"
          ],
          "name": "stdout"
        }
      ]
    }
  ]
}