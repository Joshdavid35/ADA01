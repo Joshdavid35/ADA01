{
  "nbformat": 4,
  "nbformat_minor": 0,
  "metadata": {
    "colab": {
      "name": "Practica 1.ipynb",
      "provenance": [],
      "authorship_tag": "ABX9TyOQZuQSB/TguMEcGsiRYgZE",
      "include_colab_link": true
    },
    "kernelspec": {
      "name": "python3",
      "display_name": "Python 3"
    }
  },
  "cells": [
    {
      "cell_type": "markdown",
      "metadata": {
        "id": "view-in-github",
        "colab_type": "text"
      },
      "source": [
        "<a href=\"https://colab.research.google.com/github/Joshdavid35/ADA01/blob/main/Practica_1.ipynb\" target=\"_parent\"><img src=\"https://colab.research.google.com/assets/colab-badge.svg\" alt=\"Open In Colab\"/></a>"
      ]
    },
    {
      "cell_type": "markdown",
      "metadata": {
        "id": "JeqWDUNXxlHY"
      },
      "source": [
        "PRACTICA 1:\n",
        "\n",
        "Alumno: Vieyra Acosta Josué David"
      ]
    },
    {
      "cell_type": "code",
      "metadata": {
        "id": "Wl858af1vKlj"
      },
      "source": [
        "import time\n",
        "def timerfunc(func):\n",
        "    \"\"\"\n",
        "    A timer decorator\n",
        "    \"\"\"\n",
        "def function_timer(*args, **kwargs):\n",
        "        \"\"\"\n",
        "        A nested function for timing other functions\n",
        "        \"\"\"\n",
        "        start = time.time()\n",
        "        value = func(*args, **kwargs)\n",
        "        end = time.time()\n",
        "        runtime = end - start\n",
        "        msg = \"El tiempo de ejecución {func} tomó {time} segundos en completarse\"\n",
        "        print(msg.format(func=func.__name__,\n",
        "                         time=runtime))\n",
        "        return value\n",
        "        return function_timer\n"
      ],
      "execution_count": null,
      "outputs": []
    },
    {
      "cell_type": "code",
      "metadata": {
        "id": "I8Z7hiYLxi_5"
      },
      "source": [
        "from functools import lru_cache\n",
        "from typing import Dict\n",
        "from typing import Generator\n",
        "\n",
        "memo: Dict[int, int] = {0: 0, 1: 1} #our base cases \"Nuestros casos base\"\n",
        "\n",
        "def fib1(n: int) -> int: \n",
        "  return fib1(n-1) + fib1(n-2)\n",
        "\n",
        "def fib2(n: int) -> int: \n",
        "  if n<2: #basecase \"Caso base\"\n",
        "    return n\n",
        "  return fib2(n-2) + fib2(n-1) #recursive case \"Caso recursivo\"\n",
        "\n",
        "def fib3(n: int) -> int: \n",
        "  if n not in memo:\n",
        "    memo[n] = fib3(n-1) + fib3(n-2)\n",
        "  return memo[n]\n",
        "\n",
        "@lru_cache(maxsize=None)\n",
        "def fib4(n: int) -> int: #same definition as fib2() \"Misma definición como fib2()\"\n",
        "  if n<2: #basecase \"Caso base\"\n",
        "    return n\n",
        "  return fib4(n-2) + fib4(n-1) #recursive case \"Caso recursivo\"\n",
        "\n",
        "def fib5(n: int) -> int:\n",
        "  if n == 0: return n #special case \"Caso especial\"\n",
        "  last: int = 0 #initially set to fib(0) \"Se inicializa con fib(0)\"\n",
        "  next: int = 1 #initially set to fib(1) \"Se inicializa con fib(1)\"\n",
        "  for _ in range(1, n):\n",
        "    last, next = next, last+next \n",
        "  return next\n",
        "\n",
        "def fib6(n: int) -> int: \n",
        "  yield 0 #special case \"Caso especial\"\n",
        "  if n > 0: yield 1 #special case \"Caso especial\"\n",
        "  last: int = 0 #initially set to fib(0) \"Se inicializa con fib(0)\"\n",
        "  next: int = 1 #initially set to fib(1) \"Se inicializa con fib(1)\"\n",
        "  for _ in range(1, n):\n",
        "    last, next = next, last + next \n",
        "    yield next #main generation step \"Paso principal de generación\"\n",
        "\n",
        "@timerfunc\n",
        "def caller(f,n):\n",
        "  return f(n)\n"
      ],
      "execution_count": null,
      "outputs": []
    },
    {
      "cell_type": "code",
      "metadata": {
        "id": "kXLF__Ke13uV"
      },
      "source": [
        "param=20"
      ],
      "execution_count": null,
      "outputs": []
    },
    {
      "cell_type": "code",
      "metadata": {
        "id": "iNTUjIif17rF",
        "colab": {
          "base_uri": "https://localhost:8080/",
          "height": 163
        },
        "outputId": "6ab14577-ac94-4400-c5e5-d61448b85eae"
      },
      "source": [
        "caller(fib2, param)"
      ],
      "execution_count": null,
      "outputs": [
        {
          "output_type": "error",
          "ename": "TypeError",
          "evalue": "ignored",
          "traceback": [
            "\u001b[0;31m---------------------------------------------------------------------------\u001b[0m",
            "\u001b[0;31mTypeError\u001b[0m                                 Traceback (most recent call last)",
            "\u001b[0;32m<ipython-input-98-4e23c959fa56>\u001b[0m in \u001b[0;36m<module>\u001b[0;34m()\u001b[0m\n\u001b[0;32m----> 1\u001b[0;31m \u001b[0mcaller\u001b[0m\u001b[0;34m(\u001b[0m\u001b[0mfib2\u001b[0m\u001b[0;34m,\u001b[0m \u001b[0mparam\u001b[0m\u001b[0;34m)\u001b[0m\u001b[0;34m\u001b[0m\u001b[0;34m\u001b[0m\u001b[0m\n\u001b[0m",
            "\u001b[0;31mTypeError\u001b[0m: 'NoneType' object is not callable"
          ]
        }
      ]
    },
    {
      "cell_type": "code",
      "metadata": {
        "id": "5gVV-L4K6AU_",
        "colab": {
          "base_uri": "https://localhost:8080/",
          "height": 163
        },
        "outputId": "2fe8cb59-c481-44fa-c684-dc7de48c3708"
      },
      "source": [
        "caller(fib3, param)"
      ],
      "execution_count": null,
      "outputs": [
        {
          "output_type": "error",
          "ename": "TypeError",
          "evalue": "ignored",
          "traceback": [
            "\u001b[0;31m---------------------------------------------------------------------------\u001b[0m",
            "\u001b[0;31mTypeError\u001b[0m                                 Traceback (most recent call last)",
            "\u001b[0;32m<ipython-input-89-c19c50b6c4eb>\u001b[0m in \u001b[0;36m<module>\u001b[0;34m()\u001b[0m\n\u001b[0;32m----> 1\u001b[0;31m \u001b[0mcaller\u001b[0m\u001b[0;34m(\u001b[0m\u001b[0mfib3\u001b[0m\u001b[0;34m,\u001b[0m \u001b[0mparam\u001b[0m\u001b[0;34m)\u001b[0m\u001b[0;34m\u001b[0m\u001b[0;34m\u001b[0m\u001b[0m\n\u001b[0m",
            "\u001b[0;31mTypeError\u001b[0m: 'NoneType' object is not callable"
          ]
        }
      ]
    },
    {
      "cell_type": "code",
      "metadata": {
        "id": "qK5GmTqv6Dji",
        "colab": {
          "base_uri": "https://localhost:8080/",
          "height": 163
        },
        "outputId": "350d3b90-d203-4aef-a3a9-87eda68142f6"
      },
      "source": [
        "caller(fib4, param)"
      ],
      "execution_count": null,
      "outputs": [
        {
          "output_type": "error",
          "ename": "TypeError",
          "evalue": "ignored",
          "traceback": [
            "\u001b[0;31m---------------------------------------------------------------------------\u001b[0m",
            "\u001b[0;31mTypeError\u001b[0m                                 Traceback (most recent call last)",
            "\u001b[0;32m<ipython-input-90-085883802031>\u001b[0m in \u001b[0;36m<module>\u001b[0;34m()\u001b[0m\n\u001b[0;32m----> 1\u001b[0;31m \u001b[0mcaller\u001b[0m\u001b[0;34m(\u001b[0m\u001b[0mfib4\u001b[0m\u001b[0;34m,\u001b[0m \u001b[0mparam\u001b[0m\u001b[0;34m)\u001b[0m\u001b[0;34m\u001b[0m\u001b[0;34m\u001b[0m\u001b[0m\n\u001b[0m",
            "\u001b[0;31mTypeError\u001b[0m: 'NoneType' object is not callable"
          ]
        }
      ]
    },
    {
      "cell_type": "code",
      "metadata": {
        "id": "Bj3ejDDx6F7X",
        "colab": {
          "base_uri": "https://localhost:8080/",
          "height": 163
        },
        "outputId": "ec7efb13-3ceb-47d0-f6bd-42ad4c8ef8b5"
      },
      "source": [
        "caller(fib5, param)"
      ],
      "execution_count": null,
      "outputs": [
        {
          "output_type": "error",
          "ename": "TypeError",
          "evalue": "ignored",
          "traceback": [
            "\u001b[0;31m---------------------------------------------------------------------------\u001b[0m",
            "\u001b[0;31mTypeError\u001b[0m                                 Traceback (most recent call last)",
            "\u001b[0;32m<ipython-input-91-6c5fa67771e4>\u001b[0m in \u001b[0;36m<module>\u001b[0;34m()\u001b[0m\n\u001b[0;32m----> 1\u001b[0;31m \u001b[0mcaller\u001b[0m\u001b[0;34m(\u001b[0m\u001b[0mfib5\u001b[0m\u001b[0;34m,\u001b[0m \u001b[0mparam\u001b[0m\u001b[0;34m)\u001b[0m\u001b[0;34m\u001b[0m\u001b[0;34m\u001b[0m\u001b[0m\n\u001b[0m",
            "\u001b[0;31mTypeError\u001b[0m: 'NoneType' object is not callable"
          ]
        }
      ]
    }
  ]
}